{
 "cells": [
  {
   "cell_type": "markdown",
   "id": "7354fa24-2175-4039-9533-ac71cff80e47",
   "metadata": {},
   "source": [
    "# exploration of the data \n",
    "\n",
    "in this notebook we'll take a look at the gathered data from the MIMIC-III sql requests as well as the eICU sql requests. \n",
    "\n",
    "This data is gathered to be able to train a ML model to be able to predict AKI"
   ]
  },
  {
   "cell_type": "code",
   "execution_count": null,
   "id": "5226f15c-c3e5-4cb5-ad4b-65d9684f05e0",
   "metadata": {},
   "outputs": [],
   "source": [
    "# imports\n",
    "import plotly.express as px\n",
    "import pandas as pd\n",
    "import numpy as np\n",
    "import os\n",
    "from pathlib import Path\n",
    "import re\n",
    "from plotly.subplots import make_subplots\n",
    "import plotly.graph_objects as go"
   ]
  },
  {
   "cell_type": "code",
   "execution_count": null,
   "id": "fbbaaf4d-808f-4cdc-baec-03037562741c",
   "metadata": {},
   "outputs": [],
   "source": [
    "mimic_dir = Path(Path.cwd() / 'output' / 'mimiciii')\n",
    "eicu_dir = Path(Path.cwd() / 'output' / 'eicu')\n",
    "mimic_dir"
   ]
  },
  {
   "cell_type": "code",
   "execution_count": null,
   "id": "4d0dfbbd-93c5-4d9e-958f-1c4469f0808b",
   "metadata": {},
   "outputs": [],
   "source": [
    "# list contents and add them in a dict for easier processing:\n",
    "def get_files(database_dir):\n",
    "    files_dirs = [x for x in database_dir.glob('**/*.parquet') if x.is_file()]\n",
    "    files_names = [x.stem for x in files_dirs]\n",
    "    files = dict(zip(files_names, files_dirs))\n",
    "    return files\n",
    "files_mimic = get_files(mimic_dir)\n",
    "files_eicu = get_files(eicu_dir)\n",
    "files_mimic"
   ]
  },
  {
   "cell_type": "code",
   "execution_count": null,
   "id": "ecf0c22d-6248-447a-854e-1918f39329d3",
   "metadata": {},
   "outputs": [],
   "source": [
    "files_eicu"
   ]
  },
  {
   "cell_type": "markdown",
   "id": "70e5427d-3c38-47b6-8740-28be39599c37",
   "metadata": {},
   "source": [
    "## Dataframes\n",
    "\n",
    "We'll import the different dataset in pandas dataframes, to be able to visualise them easily:"
   ]
  },
  {
   "cell_type": "code",
   "execution_count": null,
   "id": "079c0436-8858-4f3f-b8f0-c933331fb8fc",
   "metadata": {},
   "outputs": [],
   "source": [
    "def create_dataframe_dict(parquetdict: dict):\n",
    "    df_dict = dict()\n",
    "    df_column_names = dict()\n",
    "    for k,v in parquetdict.items():\n",
    "        df_dict[k]=pd.read_parquet(v)\n",
    "        df_column_names[k] = df_dict[k].columns\n",
    "    return df_dict,df_column_names\n",
    "mimiciii_df_dict, mimic_column_names = create_dataframe_dict(files_mimic)\n",
    "eicu_df_dict, eicu_column_names = create_dataframe_dict(files_eicu)"
   ]
  },
  {
   "cell_type": "code",
   "execution_count": null,
   "id": "04ce100b-db6b-4410-b3f7-1ea4e6f5cfd4",
   "metadata": {},
   "outputs": [],
   "source": [
    "mimiciii_df_dict['chart_vitals_stay']"
   ]
  },
  {
   "cell_type": "code",
   "execution_count": null,
   "id": "6ad04e00-d774-4d75-bb63-091d6779aeed",
   "metadata": {},
   "outputs": [],
   "source": [
    "eicu_df_dict['chart_vitals_stay']"
   ]
  },
  {
   "cell_type": "code",
   "execution_count": null,
   "id": "806720fb-9179-4a8d-badf-9dde50836441",
   "metadata": {},
   "outputs": [],
   "source": [
    "mimic_column_names"
   ]
  },
  {
   "cell_type": "markdown",
   "id": "d540f6f8-58d9-4b04-80b2-8b86bf898ac0",
   "metadata": {},
   "source": [
    "## visualize parameters"
   ]
  },
  {
   "cell_type": "code",
   "execution_count": null,
   "id": "f21d11ba-3028-4293-b6d2-6af5f7df0b64",
   "metadata": {},
   "outputs": [],
   "source": [
    "i=\"chart_vitals_stay\"\n",
    "j=\"diasbp_mean\"\n",
    "amount_of_data_mimic = mimiciii_df_dict[i][j].count()\n",
    "amount_of_data_eicu = eicu_df_dict[i][j].count()\n",
    "fig = make_subplots(rows=1, cols=2, subplot_titles=(\"mimic data amount: {}\".format(amount_of_data_mimic),\"eicu data, amount: {}\".format(amount_of_data_eicu)))\n",
    "fig.add_trace(go.Box(y=mimiciii_df_dict[i][j], name='mimic',boxpoints=False,), row=1, col=1)\n",
    "fig.add_trace(go.Box(y=eicu_df_dict[i][j], name='eicu',boxpoints=False,), row=1, col=2)\n",
    "fig.update_layout(\n",
    "    yaxis_title=j,\n",
    "    boxmode='group' # group together boxes of the different traces for each value of x\n",
    ")\n",
    "fig.show()"
   ]
  },
  {
   "cell_type": "code",
   "execution_count": null,
   "id": "6c83b40f-dd85-4824-9971-f27cc63ac23c",
   "metadata": {},
   "outputs": [],
   "source": [
    "def create_plots(df_mimic, df_eicu):\n",
    "    x = 'icustay_id'\n",
    "    columns_to_skip = ['hadm_id','icustay_id','charttime','subject_id']\n",
    "    root_dir = Path(Path.cwd() / 'output'/'data_comparison')\n",
    "\n",
    "    for i in mimic_column_names:\n",
    "        for j in mimic_column_names[i]:\n",
    "            print(i,j)\n",
    "            if j not in (columns_to_skip):\n",
    "                if(i=='comorbidities'):\n",
    "                    x='hadm_id'\n",
    "                else:\n",
    "                    x='icustay_id'\n",
    "                amount_of_data_mimic = df_mimic[i][j].count()\n",
    "                amount_of_data_eicu = df_eicu[i][j].count()\n",
    "                fig = make_subplots(rows=1, cols=2, subplot_titles=(\"mimic data amount: {}\".format(amount_of_data_mimic),\"eicu data, amount: {}\".format(amount_of_data_eicu)))\n",
    "                fig.add_trace(go.Box(y=df_mimic[i][j], name='mimic',boxpoints=False,), row=1, col=1)\n",
    "                fig.add_trace(go.Box(y=df_eicu[i][j], name='eicu',boxpoints=False,), row=1, col=2)\n",
    "                fig.update_layout(\n",
    "                    yaxis_title=j,\n",
    "                    boxmode='group' # group together boxes of the different traces for each value of x\n",
    "                )\n",
    "                # fig.write_html(root_dir / str(i+\"_\"+j+\".html\"))\n",
    "                fig.write_image(root_dir / str(i+\"_\"+j+\".jpeg\"))\n",
    "create_plots(mimiciii_df_dict, eicu_df_dict)"
   ]
  },
  {
   "cell_type": "code",
   "execution_count": null,
   "id": "e8aee62e-2780-47c0-ad40-3ef330b1d234",
   "metadata": {},
   "outputs": [],
   "source": []
  },
  {
   "cell_type": "code",
   "execution_count": null,
   "id": "3f6fb887-92ef-423c-8afc-46903e266abd",
   "metadata": {},
   "outputs": [],
   "source": []
  },
  {
   "cell_type": "code",
   "execution_count": null,
   "id": "b9974e89-d2fa-45bd-b491-9f79e1acc4cc",
   "metadata": {},
   "outputs": [],
   "source": []
  }
 ],
 "metadata": {
  "interpreter": {
   "hash": "658e40c54bf8a0fcccce9a26d4ace5a3a7db2cb5566b3ec49062a8cd6b299d28"
  },
  "kernelspec": {
   "display_name": "Python [conda env:eicu] *",
   "language": "python",
   "name": "python3"
  },
  "language_info": {
   "codemirror_mode": {
    "name": "ipython",
    "version": 3
   },
   "file_extension": ".py",
   "mimetype": "text/x-python",
   "name": "python",
   "nbconvert_exporter": "python",
   "pygments_lexer": "ipython3",
   "version": "3.8.12"
  }
 },
 "nbformat": 4,
 "nbformat_minor": 5
}
