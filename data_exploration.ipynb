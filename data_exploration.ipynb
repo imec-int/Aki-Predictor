{
 "cells": [
  {
   "cell_type": "markdown",
   "id": "7354fa24-2175-4039-9533-ac71cff80e47",
   "metadata": {},
   "source": [
    "# exploration of the data\n",
    "\n",
    "in this notebook we'll take a look at the gathered data from the MIMIC-III sql requests as well as the eICU sql requests.\n",
    "\n",
    "This data is gathered to be able to train a ML model to be able to predict AKI\n"
   ]
  },
  {
   "cell_type": "code",
   "execution_count": null,
   "id": "5226f15c-c3e5-4cb5-ad4b-65d9684f05e0",
   "metadata": {},
   "outputs": [],
   "source": [
    "# imports\n",
    "import plotly.express as px\n",
    "import pandas as pd\n",
    "import numpy as np\n",
    "import os\n",
    "from pathlib import Path\n",
    "import re\n",
    "from plotly.subplots import make_subplots\n",
    "import plotly.graph_objects as go\n",
    "import matplotlib.pyplot as plt\n",
    "from aki_ml import *"
   ]
  },
  {
   "cell_type": "code",
   "execution_count": null,
   "id": "fbbaaf4d-808f-4cdc-baec-03037562741c",
   "metadata": {},
   "outputs": [],
   "source": [
    "mimic_dir = Path(Path.cwd() / 'data' / 'mimiciii' )\n",
    "mimic_query = Path(mimic_dir / 'queried')\n",
    "mimic_prepro = Path(mimic_dir / 'preprocessed')\n",
    "eicu_dir = Path(Path.cwd() / 'data' / 'eicu')\n",
    "eicu_query = Path(eicu_dir / 'queried')\n",
    "eicu_prepro = Path(eicu_dir / 'preprocessed')\n",
    "mimic_dir"
   ]
  },
  {
   "cell_type": "code",
   "execution_count": null,
   "id": "4d0dfbbd-93c5-4d9e-958f-1c4469f0808b",
   "metadata": {},
   "outputs": [],
   "source": [
    "# list contents and add them in a dict for easier processing:\n",
    "def get_files(database_dir):\n",
    "    files_dirs = [x for x in database_dir.glob('**/*.parquet') if x.is_file()]\n",
    "    files_names = [x.stem for x in files_dirs]\n",
    "    files = dict(zip(files_names, files_dirs))\n",
    "    return files\n",
    "files_mimic = get_files(mimic_query)\n",
    "files_eicu = get_files(eicu_query)\n",
    "files_mimic"
   ]
  },
  {
   "cell_type": "code",
   "execution_count": null,
   "id": "ecf0c22d-6248-447a-854e-1918f39329d3",
   "metadata": {},
   "outputs": [],
   "source": [
    "files_eicu"
   ]
  },
  {
   "cell_type": "markdown",
   "id": "70e5427d-3c38-47b6-8740-28be39599c37",
   "metadata": {},
   "source": [
    "## Dataframes\n",
    "\n",
    "We'll import the different dataset in pandas dataframes, to be able to visualise them easily:\n"
   ]
  },
  {
   "cell_type": "markdown",
   "id": "36762ea9",
   "metadata": {},
   "source": [
    "TODO:\n",
    "\n",
    "1. perhaps use cleanup_data on the dataframes, to check the content of the dataframes which is being handed to the ML model.\n",
    "2. create images of this output "
   ]
  },
  {
   "cell_type": "code",
   "execution_count": null,
   "id": "079c0436-8858-4f3f-b8f0-c933331fb8fc",
   "metadata": {},
   "outputs": [],
   "source": [
    "def create_dataframe_dict(parquetdict: dict):\n",
    "    df_dict = dict()\n",
    "    df_column_names = dict()\n",
    "    for k,v in parquetdict.items():\n",
    "        print(k,v)\n",
    "        df_dict[k]=pd.read_parquet(v)\n",
    "        # df_dict[k]=cleanup_data(v)\n",
    "        df_column_names[k] = df_dict[k].columns\n",
    "    return df_dict,df_column_names\n",
    "mimiciii_df_dict, mimic_column_names = create_dataframe_dict(files_mimic)\n",
    "eicu_df_dict, eicu_column_names = create_dataframe_dict(files_eicu)"
   ]
  },
  {
   "cell_type": "markdown",
   "id": "d540f6f8-58d9-4b04-80b2-8b86bf898ac0",
   "metadata": {},
   "source": [
    "## visualize parameters\n"
   ]
  },
  {
   "cell_type": "markdown",
   "id": "be50306c",
   "metadata": {},
   "source": [
    "### after postgres\n"
   ]
  },
  {
   "cell_type": "code",
   "execution_count": null,
   "id": "f21d11ba-3028-4293-b6d2-6af5f7df0b64",
   "metadata": {},
   "outputs": [],
   "source": [
    "i=\"chart_vitals_stay\"\n",
    "j=\"diasbp_mean\"\n",
    "amount_of_data_mimic = mimiciii_df_dict[i][j].count()\n",
    "amount_of_data_eicu = eicu_df_dict[i][j].count()\n",
    "fig = make_subplots(rows=1, cols=2, subplot_titles=(\"mimic data amount: {}\".format(amount_of_data_mimic),\"eicu data, amount: {}\".format(amount_of_data_eicu)))\n",
    "fig.add_trace(go.Box(y=mimiciii_df_dict[i][j], name='mimic',boxpoints=False,), row=1, col=1)\n",
    "fig.add_trace(go.Box(y=eicu_df_dict[i][j], name='eicu',boxpoints=False,), row=1, col=2)\n",
    "fig.update_layout(\n",
    "    yaxis_title=j,\n",
    "    boxmode='group' # group together boxes of the different traces for each value of x\n",
    ")\n",
    "fig.show()"
   ]
  },
  {
   "cell_type": "code",
   "execution_count": null,
   "id": "6c83b40f-dd85-4824-9971-f27cc63ac23c",
   "metadata": {},
   "outputs": [],
   "source": [
    "def create_plots(df_mimic, df_eicu):\n",
    "    x = 'icustay_id'\n",
    "    columns_to_skip = ['hadm_id','icustay_id','charttime','subject_id','seq_num','admittime']\n",
    "    root_dir = Path(Path.cwd() / 'data'/ 'comparison')\n",
    "    try:\n",
    "        root_dir.mkdir(parents=True, exist_ok=False)\n",
    "    except FileExistsError:\n",
    "        print(\"Folder is already there\")\n",
    "    else:\n",
    "        print(\"Folder was created\").mkdir(parents=True, exist_ok=True)\n",
    "    \n",
    "    for i in df_mimic:\n",
    "        for j in df_mimic[i]:\n",
    "            print(i,j)\n",
    "            if j not in (columns_to_skip):\n",
    "                if(i=='comorbidities'):\n",
    "                    x='hadm_id'\n",
    "                else:\n",
    "                    x='icustay_id'\n",
    "                if j not in df_mimic[i].columns or j not in df_eicu[i].columns:\n",
    "                    print(\"skipping {}\".format(j))\n",
    "                    continue\n",
    "                amount_of_data_mimic = df_mimic[i][j].count()\n",
    "                amount_of_data_eicu = df_eicu[i][j].count()\n",
    "                fig = make_subplots(rows=1, cols=2, subplot_titles=(\"mimic data amount: {}\".format(amount_of_data_mimic),\"eicu data, amount: {}\".format(amount_of_data_eicu)))\n",
    "                fig.add_trace(go.Box(y=df_mimic[i][j], name='mimic',boxpoints=False,), row=1, col=1)\n",
    "                fig.add_trace(go.Box(y=df_eicu[i][j], name='eicu',boxpoints=False,), row=1, col=2)\n",
    "                fig.update_layout(\n",
    "                    yaxis_title=j,\n",
    "                    boxmode='group' # group together boxes of the different traces for each value of x\n",
    "                )\n",
    "                # fig.write_html(root_dir / str(i+\"_\"+j+\".html\"))\n",
    "                fig.write_image(root_dir / str(i+\"_\"+j+\".jpeg\"))\n",
    "create_plots(mimiciii_df_dict, eicu_df_dict)"
   ]
  },
  {
   "cell_type": "markdown",
   "id": "5b418691",
   "metadata": {},
   "source": [
    "### After preprocessing\n"
   ]
  },
  {
   "cell_type": "code",
   "execution_count": null,
   "id": "5b213516",
   "metadata": {},
   "outputs": [],
   "source": [
    "eicu_prepro_files = get_files(eicu_prepro)\n",
    "mimic_prepro_files = get_files(mimic_prepro)\n",
    "# mimic_prepro_files['INFO_DATASET_7days_creatinine2']"
   ]
  },
  {
   "cell_type": "code",
   "execution_count": null,
   "id": "697ec10a",
   "metadata": {},
   "outputs": [],
   "source": [
    "mimic_prepro_df_dict, mimic_prepro_column_names = create_dataframe_dict(mimic_prepro_files)\n",
    "eicu_prepro_df_dict,eicu_prepro_column_names = create_dataframe_dict(eicu_prepro_files)"
   ]
  },
  {
   "cell_type": "markdown",
   "id": "afd3893f",
   "metadata": {},
   "source": [
    "Let's check how much columns we have in each dataset:"
   ]
  },
  {
   "cell_type": "code",
   "execution_count": null,
   "id": "04c25003",
   "metadata": {},
   "outputs": [],
   "source": [
    "dataset = 'INFO_DATASET_7days_creatinine2'\n",
    "\n",
    "print(\"mimic {} vs eicu {}\".format(len(mimic_prepro_column_names[dataset]),len(eicu_prepro_column_names[dataset])))"
   ]
  },
  {
   "cell_type": "markdown",
   "id": "76158a63",
   "metadata": {},
   "source": [
    "Let's compare which columns we don't have in the eicu files:"
   ]
  },
  {
   "cell_type": "code",
   "execution_count": null,
   "id": "d645ab29",
   "metadata": {},
   "outputs": [],
   "source": [
    "for i in mimic_prepro_column_names[dataset]:\n",
    "    if i not in eicu_prepro_column_names[dataset]:\n",
    "        print(i)"
   ]
  },
  {
   "cell_type": "code",
   "execution_count": null,
   "id": "34e365be",
   "metadata": {},
   "outputs": [],
   "source": [
    "def plot_categorical(df_mimic, df_eicu, parameter):\n",
    "    fig, axes = plt.subplots(nrows=2, ncols=1,sharex=True)\n",
    "    df_mimic.groupby(parameter)['ICUSTAY_ID',].count().plot(kind='bar', ax=axes[0])\n",
    "    df_eicu.groupby(parameter)['ICUSTAY_ID',].count().plot(kind='bar', ax=axes[1])\n",
    "    plt.show()\n",
    "plot_categorical(mimic_prepro_df_dict['INFO_DATASET_7days_creatinine2'],eicu_prepro_df_dict['INFO_DATASET_7days_creatinine2'],'GENDER')"
   ]
  },
  {
   "cell_type": "code",
   "execution_count": null,
   "id": "f9ee5aa4",
   "metadata": {},
   "outputs": [],
   "source": [
    "def create_plots_prepro(df_mimic_dict:dict, df_eicu_dict:dict):\n",
    "    x = 'icustay_id'\n",
    "    columns_to_skip = ['hadm_id','icustay_id','charttime','subject_id','seq_num','admittime']\n",
    "    root_dir = Path(Path.cwd() / 'data'/ 'comparison'/'preprocessing')\n",
    "    try:\n",
    "        root_dir.mkdir(parents=True, exist_ok=False)\n",
    "    except FileExistsError:\n",
    "        print(\"Folder is already there\")\n",
    "    else:\n",
    "        print(\"Folder was created\")\n",
    "    \n",
    "    for i in df_mimic_dict:\n",
    "        # print(i)\n",
    "        for j in df_mimic_dict[i]:\n",
    "            print(\"{} ----> {}\".format(i,j))\n",
    "            if j not in (columns_to_skip):\n",
    "                if(i=='comorbidities'):\n",
    "                    x='hadm_id'\n",
    "                else:\n",
    "                    x='icustay_id'\n",
    "                if j not in df_mimic_dict[i].columns or j not in df_eicu_dict[i].columns:\n",
    "                    print(\"skipping {}\".format(j))\n",
    "                    continue\n",
    "                amount_of_data_mimic = df_mimic_dict[i][j].count()\n",
    "                amount_of_data_eicu = df_eicu_dict[i][j].count()\n",
    "                fig = make_subplots(rows=1, cols=2, subplot_titles=(\"mimic data amount: {}\".format(amount_of_data_mimic),\"eicu data, amount: {}\".format(amount_of_data_eicu)))\n",
    "                fig.add_trace(go.Box(y=df_mimic_dict[i][j], name='mimic',boxpoints=False,), row=1, col=1)\n",
    "                fig.add_trace(go.Box(y=df_eicu_dict[i][j], name='eicu',boxpoints=False,), row=1, col=2)\n",
    "                fig.update_layout(\n",
    "                    yaxis_title=j,\n",
    "                    boxmode='group' # group together boxes of the different traces for each value of x\n",
    "                )\n",
    "                # fig.write_html(root_dir / str(i+\"_\"+j+\".html\"))\n",
    "                fig.write_image(root_dir / str(i+\"_\"+j+\".jpeg\"))\n",
    "create_plots_prepro(df_mimic_dict=mimic_prepro_df_dict, df_eicu_dict=eicu_prepro_df_dict)"
   ]
  },
  {
   "cell_type": "code",
   "execution_count": null,
   "id": "049a9327",
   "metadata": {},
   "outputs": [],
   "source": [
    "def create_plots_prepro_path(df_mimic_dict:dict, df_eicu_dict:dict):\n",
    "    x = 'icustay_id'\n",
    "    columns_to_skip = ['hadm_id','icustay_id','charttime','subject_id','seq_num','admittime']\n",
    "    root_dir = Path(Path.cwd() / 'data'/ 'comparison'/'cleanup')\n",
    "    try:\n",
    "        root_dir.mkdir(parents=True, exist_ok=False)\n",
    "    except FileExistsError:\n",
    "        print(\"Folder is already there\")\n",
    "    else:\n",
    "        print(\"Folder was created\")\n",
    "    \n",
    "    for i in df_mimic_dict:\n",
    "        print(i,df_mimic_dict[i], df_eicu_dict[i])\n",
    "        df_mimic = cleanup_data(df_mimic_dict[i])\n",
    "        df_eicu = cleanup_data(df_eicu_dict[i])\n",
    "        for j in df_mimic:\n",
    "            print(\"{} ----> {}\".format(i,j))\n",
    "            if(j==\"DIASBP_MEAN\"):\n",
    "                print(df_eicu[[\"DIASBP_MEAN\",'DIASBP_MAX','DIASBP_MIN']].head(10))\n",
    "            if j not in (columns_to_skip):\n",
    "                if(i=='comorbidities'):\n",
    "                    x='hadm_id'\n",
    "                else:\n",
    "                    x='icustay_id'\n",
    "                if j not in df_mimic.columns or j not in df_eicu.columns:\n",
    "                    print(\"skipping {}\".format(j))\n",
    "                    continue\n",
    "                amount_of_data_mimic = df_mimic[j].count()\n",
    "                amount_of_data_eicu = df_eicu[j].count()\n",
    "                fig = make_subplots(rows=1, cols=2, subplot_titles=(\"mimic data amount: {}\".format(amount_of_data_mimic),\"eicu data, amount: {}\".format(amount_of_data_eicu)))\n",
    "                fig.add_trace(go.Box(y=df_mimic[j], name='mimic',boxpoints=False,), row=1, col=1)\n",
    "                fig.add_trace(go.Box(y=df_eicu[j], name='eicu',boxpoints=False,), row=1, col=2)\n",
    "                fig.update_layout(\n",
    "                    yaxis_title=j,\n",
    "                    boxmode='group' # group together boxes of the different traces for each value of x\n",
    "                )\n",
    "                # fig.write_html(root_dir / str(i+\"_\"+j+\".html\"))\n",
    "                fig.write_image(root_dir / str(i+\"_\"+j+\".jpeg\"))\n",
    "create_plots_prepro_path(df_mimic_dict=mimic_prepro_files, df_eicu_dict=eicu_prepro_files)\n"
   ]
  },
  {
   "cell_type": "markdown",
   "id": "b60c5d8a",
   "metadata": {},
   "source": [
    "### check the cleaned dataframes\n",
    "\n",
    "these are fed to the AKI classification model."
   ]
  },
  {
   "cell_type": "code",
   "execution_count": null,
   "id": "07f0dda5",
   "metadata": {},
   "outputs": [],
   "source": [
    "dataset = 'INFO_DATASET_7days_creatinine+urine2'\n",
    "mimic_non_clean = mimic_prepro_df_dict[dataset]\n",
    "eicu_non_clean = eicu_prepro_df_dict[dataset]\n",
    "#not cleaned files\n",
    "#we'll only count the files if they are larger than 1.0 as there are lot's of zeros due to NaN being converted to 0\n",
    "amount_of_data_mimic_non_clean = mimic_non_clean[mimic_non_clean[\"DIASBP_MEAN\"]>1.0][\"DIASBP_MEAN\"].count()\n",
    "amount_of_data_eicu_non_clean = eicu_non_clean[eicu_non_clean[\"DIASBP_MEAN\"]>1.0][\"DIASBP_MEAN\"].count()\n",
    "#cleaned files\n",
    "mimic_clean = cleanup_data(mimic_prepro_files[dataset])\n",
    "eicu_clean = cleanup_data(eicu_prepro_files[dataset])\n",
    "amount_of_data_mimic_clean = mimic_clean[mimic_clean[\"DIASBP_MEAN\"]>1.0][\"DIASBP_MEAN\"].count()\n",
    "amount_of_data_eicu_clean = eicu_clean[eicu_clean[\"DIASBP_MEAN\"]>1.0][\"DIASBP_MEAN\"].count()"
   ]
  },
  {
   "cell_type": "code",
   "execution_count": null,
   "id": "23475d93",
   "metadata": {},
   "outputs": [],
   "source": [
    "fig = make_subplots(\n",
    "    rows=2,\n",
    "    cols=2,\n",
    "    subplot_titles=(\n",
    "        \"mimic data amount before: {}\".format(amount_of_data_mimic_non_clean),\n",
    "        \"eicu data amount before: {}\".format(amount_of_data_eicu_non_clean),\n",
    "        \"mimic data amount: {}\".format(amount_of_data_mimic_clean),\n",
    "        \"eicu data, amount: {}\".format(amount_of_data_eicu_clean),\n",
    "    ),\n",
    "    shared_xaxes=True,\n",
    ")\n",
    "\n",
    "# before cleaning\n",
    "fig.add_trace(\n",
    "    go.Histogram(\n",
    "        x=mimic_non_clean[\"DIASBP_MEAN\"],\n",
    "        name=\"mimic before cleaning\",\n",
    "    ),\n",
    "    row=1,\n",
    "    col=1,\n",
    ")\n",
    "fig.add_trace(\n",
    "    go.Histogram(\n",
    "        x=eicu_non_clean[\"DIASBP_MEAN\"],\n",
    "        name=\"eicu before cleaning\",\n",
    "    ),\n",
    "    row=1,\n",
    "    col=2,\n",
    ")\n",
    "# cleaned dataframes\n",
    "fig.add_trace(go.Histogram(x=mimic_clean[\"DIASBP_MEAN\"], name=\"mimic\"), row=2, col=1)\n",
    "fig.add_trace(go.Histogram(x=eicu_clean[\"DIASBP_MEAN\"], name=\"eicu\"), row=2, col=2)\n",
    "fig.update_layout(\n",
    "    yaxis_title=\"DIASBP_MEAN\",\n",
    "    boxmode=\"group\",  # group together boxes of the different traces for each value of x\n",
    ")\n",
    "fig.update_xaxes(range=[0, 200])\n",
    "fig.update_yaxes(range=[0, 1500])\n",
    "\n",
    "fig.show()\n"
   ]
  },
  {
   "cell_type": "markdown",
   "id": "e8aee62e-2780-47c0-ad40-3ef330b1d234",
   "metadata": {},
   "source": [
    "## AUROC plots\n",
    "\n",
    "we've created a csv which compares a model trained on a certain hospital to other hospitals.\n",
    "We want to plot this with continuous error bars, so we'll first capture an array of the hospital results themselves. Then we'll calculate the quantiles to plot a continuous error bar"
   ]
  },
  {
   "cell_type": "code",
   "execution_count": null,
   "id": "587fc4c4",
   "metadata": {},
   "outputs": [],
   "source": [
    "auroc_local = pd.read_csv(Path(Path.cwd() / 'data'/ 'eicu' / 'auroc_local_matrix.csv'))"
   ]
  },
  {
   "cell_type": "code",
   "execution_count": null,
   "id": "1c56dde6",
   "metadata": {},
   "outputs": [],
   "source": [
    "auroc_line = dict()\n",
    "for hospital in auroc_local.index:\n",
    "    auroc_hospital = auroc_local.at[hospital, \"hospital_{}\".format(hospital)]\n",
    "    auroc_line[hospital]=auroc_hospital\n",
    "auroc_line_df = pd.DataFrame.from_dict(auroc_line, orient='index', columns=['AUROC'])\n",
    "# auroc_line_df.columns='AUROC'\n",
    "auroc_line_df.index.name = 'hospital_id'\n",
    "px.line(auroc_line_df)"
   ]
  },
  {
   "cell_type": "code",
   "execution_count": null,
   "id": "a99d1828",
   "metadata": {},
   "outputs": [],
   "source": [
    "i='hospital_58'\n",
    "auroc_l_series = auroc_local[i].copy()"
   ]
  },
  {
   "cell_type": "code",
   "execution_count": null,
   "id": "106a1934",
   "metadata": {},
   "outputs": [],
   "source": [
    "auroc_l_series.drop(58)"
   ]
  },
  {
   "cell_type": "code",
   "execution_count": null,
   "id": "d74ae0c4",
   "metadata": {},
   "outputs": [],
   "source": [
    "auroc_l_series = dict()\n",
    "for i in auroc_local.columns:\n",
    "    index_h=int(i.split('_')[1])\n",
    "    aur_series = auroc_local[i].copy().drop(index=index_h)\n",
    "    auroc_l_series[index_h] = aur_series.quantile([0.25,0.75])"
   ]
  },
  {
   "cell_type": "code",
   "execution_count": null,
   "id": "08d41831",
   "metadata": {},
   "outputs": [],
   "source": [
    "auroc_l_series_df = pd.DataFrame.from_dict(auroc_l_series)"
   ]
  },
  {
   "cell_type": "code",
   "execution_count": null,
   "id": "5fdce16e",
   "metadata": {},
   "outputs": [],
   "source": [
    "import plotly.graph_objs as go\n",
    "fig = go.Figure(\n",
    "    [\n",
    "        go.Scatter(\n",
    "        x=auroc_line_df.index,\n",
    "        y=auroc_line_df.AUROC,\n",
    "        name=\"hospitals auroc on itself\"\n",
    "    ),\n",
    "        go.Scatter(\n",
    "        x=list(auroc_l_series_df.loc[0.25].index) + list(auroc_l_series_df.loc[0.75].index)[::-1],  # x, then x reversed\n",
    "        y=list(auroc_l_series_df.loc[0.25].values) + list(auroc_l_series_df.loc[0.75].values)[::-1],  # upper, then lower reversed\n",
    "        fill='toself',\n",
    "        fillcolor='rgba(0,100,80,0.2)',\n",
    "        line=dict(color='rgba(255,255,255,0)'),\n",
    "        hoverinfo=\"skip\",\n",
    "        name=\"hospital model on other hospitals, Q1-Q3\"\n",
    "        # showlegend=False\n",
    "    )]\n",
    ")\n",
    "fig.update_layout(\n",
    "    title=\"AKI model AUROC local\",\n",
    "    xaxis_title=\"hospital_id\",\n",
    "    yaxis_title=\"AUROC results\"\n",
    ")\n",
    "fig.show()\n",
    "fig.write_html(Path(Path.cwd() / 'data'/ 'eicu'/'local_auroc_line.html'))\n"
   ]
  },
  {
   "cell_type": "code",
   "execution_count": null,
   "id": "a16644b5",
   "metadata": {},
   "outputs": [],
   "source": [
    "auroc_global = pd.read_csv(Path(Path.cwd() / 'data'/ 'eicu' / 'auroc_global_matrix.csv'), index_col=0)\n",
    "auroc_combined = pd.read_csv(Path(Path.cwd() / 'data'/ 'eicu' / 'auroc_combined_matrix.csv'), index_col=0)\n"
   ]
  },
  {
   "cell_type": "code",
   "execution_count": null,
   "id": "ce39e557",
   "metadata": {},
   "outputs": [],
   "source": [
    "fig = go.Figure([\n",
    "    go.Line(\n",
    "        x=auroc_global.index,\n",
    "        y=auroc_global.eicu,\n",
    "        name=\"global\"\n",
    "    ),\n",
    "    go.Line(\n",
    "        x=auroc_combined.index,\n",
    "        y=auroc_combined.combined,\n",
    "        name=\"combined\"\n",
    "    )\n",
    "])\n",
    "fig.update_layout(\n",
    "    title=\"AKI model AUROC global\",\n",
    "    xaxis_title=\"hospital_id\",\n",
    "    yaxis_title=\"AUROC results\"\n",
    ")\n",
    "fig.show()\n",
    "fig.write_html(Path(Path.cwd() / 'data'/ 'eicu'/'auroc_lines.html'))"
   ]
  },
  {
   "cell_type": "markdown",
   "id": "7e641932",
   "metadata": {},
   "source": [
    "## plot insights\n",
    "\n",
    "amount of people per category for the hospitals of train_id"
   ]
  },
  {
   "cell_type": "code",
   "execution_count": null,
   "id": "407cd93e",
   "metadata": {},
   "outputs": [],
   "source": [
    "insights = pd.read_csv(Path(Path.cwd() / 'data/eicu/insights.csv'), index_col=0)\n",
    "trained = pd.read_csv(Path(Path.cwd() / 'data/eicu/trained.csv'), header=None, names=['hospital_id','bool'])\n",
    "#we're only interested in the hospitals on which we'll be training\n",
    "trained_pos = trained[trained['bool']==True]['hospital_id']"
   ]
  },
  {
   "cell_type": "markdown",
   "id": "c0a624a6",
   "metadata": {},
   "source": [
    "we'll filter the insights dataset for those hospitals of trained_pos, plus we only care about the creat_only values"
   ]
  },
  {
   "cell_type": "code",
   "execution_count": null,
   "id": "9828320e",
   "metadata": {},
   "outputs": [],
   "source": [
    "insights_filtered = insights[insights['hospital'].isin(trained_pos)]"
   ]
  },
  {
   "cell_type": "code",
   "execution_count": null,
   "id": "17e9bfca",
   "metadata": {},
   "outputs": [],
   "source": [
    "insights_filtered"
   ]
  },
  {
   "cell_type": "code",
   "execution_count": null,
   "id": "63a85faf",
   "metadata": {},
   "outputs": [],
   "source": [
    "fig = go.Figure([\n",
    "    go.Scatter(\n",
    "        x=insights_filtered.hospital,\n",
    "        y=insights_filtered.creat_only_normal,\n",
    "        name=\"normal\"\n",
    "    ),\n",
    "    go.Scatter(\n",
    "        x=insights_filtered.hospital,\n",
    "        y=insights_filtered.creat_only_AKI_1,\n",
    "        name=\"AKI 1\"\n",
    "    ),\n",
    "    go.Scatter(\n",
    "        x=insights_filtered.hospital,\n",
    "        y=insights_filtered.creat_only_AKI_2,\n",
    "        name=\"AKI 2\"\n",
    "    ),\n",
    "    go.Scatter(\n",
    "        x=insights_filtered.hospital,\n",
    "        y=insights_filtered.creat_only_AKI_3,\n",
    "        name=\"AKI 3\"\n",
    "    )\n",
    "])\n",
    "fig.update_layout(\n",
    "    title=\"patients after cleaning, creatinine based only\",\n",
    "    xaxis_title=\"hospital_id\",\n",
    "    yaxis_title=\"amount\"\n",
    ")\n",
    "fig.show()\n"
   ]
  },
  {
   "cell_type": "markdown",
   "id": "4805ed20",
   "metadata": {},
   "source": [
    "## combined view of local and global plots, together with the amounts"
   ]
  },
  {
   "cell_type": "code",
   "execution_count": null,
   "id": "7f5178a4",
   "metadata": {},
   "outputs": [],
   "source": [
    "# GLOBAL\n",
    "fig = make_subplots(rows=2, cols=1,shared_xaxes=True,subplot_titles=['auroc results','amount of patients per hospital per category'])\n",
    "\n",
    "fig.append_trace(\n",
    "    go.Scatter(\n",
    "        x=auroc_global.index,\n",
    "        y=auroc_global.eicu,\n",
    "        name=\"global\"\n",
    "    ), row=1, col=1)\n",
    "\n",
    "fig.append_trace(\n",
    "    go.Scatter(\n",
    "        x=auroc_combined.index,\n",
    "        y=auroc_combined.combined,\n",
    "        name=\"combined\"\n",
    "    ), row=1, col=1)\n",
    "\n",
    "fig.append_trace(go.Scatter(\n",
    "    x=insights_filtered.hospital,\n",
    "    y=insights_filtered.creat_only_normal,\n",
    "    name=\"normal\"\n",
    "), row=2, col=1)\n",
    "\n",
    "fig.append_trace(go.Scatter(\n",
    "    x=insights_filtered.hospital,\n",
    "    y=insights_filtered.creat_only_AKI_1,\n",
    "    name=\"AKI 1\"\n",
    "), row=2, col=1)\n",
    "fig.append_trace(go.Scatter(\n",
    "    x=insights_filtered.hospital,\n",
    "    y=insights_filtered.creat_only_AKI_2,\n",
    "    name=\"AKI 2\"\n",
    "), row=2, col=1)\n",
    "fig.append_trace(go.Scatter(\n",
    "    x=insights_filtered.hospital,\n",
    "    y=insights_filtered.creat_only_AKI_3,\n",
    "    name=\"AKI 3\"\n",
    "), row=2, col=1)\n",
    "fig.show()\n"
   ]
  },
  {
   "cell_type": "markdown",
   "id": "fe08d074",
   "metadata": {},
   "source": [
    "## compare data from a \"good\" scoring hospital with that from a \"bad\" one"
   ]
  },
  {
   "cell_type": "code",
   "execution_count": null,
   "id": "6931c3d0",
   "metadata": {},
   "outputs": [],
   "source": [
    "good = 197\n",
    "bad = 262\n",
    "good_df = pd.read_parquet(Path(Path.cwd() / 'data/eicu/hospital_{}/clean_data/INFO_DATASET_7days_creatinine2.parquet'.format(good)))\n",
    "bad_df = pd.read_parquet(Path(Path.cwd() / 'data/eicu/hospital_{}/clean_data/INFO_DATASET_7days_creatinine2.parquet'.format(bad)))\n",
    "mimic_df = pd.read_parquet(Path(Path.cwd() / 'data/mimiciii/mimic/clean_data/INFO_DATASET_7days_creatinine2.parquet'))\n",
    "eicu_df = pd.read_parquet(Path(Path.cwd() / 'data/eicu/eicu/clean_data/INFO_DATASET_7days_creatinine2.parquet'))\n",
    "good_df_desc = good_df.describe()\n",
    "bad_df_desc = bad_df.describe()\n",
    "mimic_df_desc = mimic_df.describe()\n",
    "eicu_df_desc = eicu_df.describe()"
   ]
  },
  {
   "cell_type": "code",
   "execution_count": null,
   "id": "4aa574fa",
   "metadata": {},
   "outputs": [],
   "source": [
    "def plot_metric_comparison(metric):\n",
    "    fig = make_subplots(rows=len(metric), cols=1,shared_xaxes=True,subplot_titles=(metric))\n",
    "    for idx,i in enumerate(metric, start=1):\n",
    "        fig.add_trace(go.Scatter(\n",
    "            x=good_df_desc.columns,\n",
    "            y=good_df_desc.loc['{}'.format(i)],\n",
    "            name=\"good_df_{}\".format(i)\n",
    "        ), row=idx, col=1)\n",
    "        fig.add_trace(go.Scatter(\n",
    "            x=bad_df_desc.columns,\n",
    "            y=bad_df_desc.loc['{}'.format(i)],\n",
    "            name=\"bad_df_{}\".format(i)\n",
    "        ), row=idx, col=1)\n",
    "        fig.add_trace(go.Scatter(\n",
    "            x=mimic_df_desc.columns,\n",
    "            y=mimic_df_desc.loc['{}'.format(i)],\n",
    "            name=\"mimic_df_{}\".format(i)\n",
    "        ), row=idx, col=1)\n",
    "        fig.add_trace(go.Scatter(\n",
    "            x=eicu_df_desc.columns,\n",
    "            y=eicu_df_desc.loc['{}'.format(i)],\n",
    "            name=\"eicu_df_{}\".format(i)\n",
    "        ), row=idx, col=1)\n",
    "    fig.update_layout(\n",
    "        title=\"comparison of {} of values between a good, a bad and mimic dataframe (for training)\".format(metric),\n",
    "    )\n",
    "    fig.show()\n",
    "    fig.write_html(Path(Path.cwd() / 'data/eicu/insights_min_mean_max.html'))\n",
    "plot_metric_comparison(['mean'])"
   ]
  },
  {
   "cell_type": "code",
   "execution_count": null,
   "id": "d2b5d46b",
   "metadata": {},
   "outputs": [],
   "source": [
    "good_path = Path(Path.cwd(\n",
    ") / 'data/eicu/hospital_{}/model/creatinine_model_hospital_{}/metrics/creatinine_model_hospital_{}_auroc_comparison.csv'.format(good, good, good))\n",
    "good_auroc_df = pd.read_csv(good_path, index_col=0,\n",
    "                            header=None, names=['from', 'to', 'auroc'])\n",
    "good_auroc = good_auroc_df[good_auroc_df.at['hospital_{}'.format(\n",
    "    good), 'to'] == \"hospital_{}\".format(good)].auroc\n",
    "\n",
    "bad_path = Path(Path.cwd(\n",
    ") / 'data/eicu/hospital_{}/model/creatinine_model_hospital_{}/metrics/creatinine_model_hospital_{}_auroc_comparison.csv'.format(bad, bad, bad))\n",
    "bad_auroc_df = pd.read_csv(bad_path, index_col=0,\n",
    "                           header=None, names=['from', 'to', 'auroc'])\n",
    "bad_auroc = bad_auroc_df[bad_auroc_df.at['hospital_{}'.format(\n",
    "    bad), 'to'] == \"hospital_{}\".format(bad)].auroc\n",
    "\n",
    "eicu_auroc = 0.7255278928385078\n",
    "\n",
    "mimic_auroc = 0.7564216218262945\n"
   ]
  },
  {
   "cell_type": "code",
   "execution_count": null,
   "id": "751e0ca1",
   "metadata": {},
   "outputs": [],
   "source": [
    "print(\"good: \\t{} \\t\\t{}\".format(good_df_desc.loc['count']['AKI'], good_auroc.values[0]))\n",
    "print(\"bad: \\t{} \\t\\t{}\".format(bad_df_desc.loc['count']['AKI'], bad_auroc.values[0]))\n",
    "print(\"eicu: \\t{} \\t{}\".format(eicu_df_desc.loc['count']['AKI'], eicu_auroc))\n",
    "print(\"mimic: \\t{} \\t{}\".format(mimic_df_desc.loc['count']['AKI'], mimic_auroc))"
   ]
  },
  {
   "cell_type": "code",
   "execution_count": null,
   "id": "920d03a7",
   "metadata": {},
   "outputs": [],
   "source": []
  },
  {
   "cell_type": "code",
   "execution_count": null,
   "id": "68efd60a",
   "metadata": {},
   "outputs": [],
   "source": []
  },
  {
   "cell_type": "code",
   "execution_count": null,
   "id": "030caa36",
   "metadata": {},
   "outputs": [],
   "source": []
  }
 ],
 "metadata": {
  "interpreter": {
   "hash": "658e40c54bf8a0fcccce9a26d4ace5a3a7db2cb5566b3ec49062a8cd6b299d28"
  },
  "kernelspec": {
   "display_name": "Python [conda env:eicu] *",
   "language": "python",
   "name": "python3"
  },
  "language_info": {
   "codemirror_mode": {
    "name": "ipython",
    "version": 3
   },
   "file_extension": ".py",
   "mimetype": "text/x-python",
   "name": "python",
   "nbconvert_exporter": "python",
   "pygments_lexer": "ipython3",
   "version": "3.8.12"
  }
 },
 "nbformat": 4,
 "nbformat_minor": 5
}
