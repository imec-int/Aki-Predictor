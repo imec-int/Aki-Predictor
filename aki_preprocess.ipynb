{
 "cells": [
  {
   "cell_type": "markdown",
   "metadata": {},
   "source": [
    "# Data exploration for aki preprocessing"
   ]
  },
  {
   "cell_type": "code",
   "execution_count": null,
   "metadata": {},
   "outputs": [],
   "source": [
    "import os\n",
    "import sys\n",
    "\n",
    "import numpy as np\n",
    "import pandas as pd\n",
    "\n",
    "import os\n",
    "from chunk import Chunk\n",
    "\n",
    "import time\n",
    "\n",
    "from util.reader import Reader\n",
    "from util.util import create_folder, create_insights\n",
    "\n",
    "from aki_preprocess import *\n",
    "import plotly_express as px"
   ]
  },
  {
   "cell_type": "code",
   "execution_count": null,
   "metadata": {},
   "outputs": [],
   "source": [
    "path_preprocess_data = './preprocessing'\n",
    "\n",
    "# create_folder(path_preprocess_data) #TODO this is not logical: you're creating an empty folder, yet expect all preprocessed data already there...\n",
    "\n",
    "path_dataset = 'mimic-iii-clinical-database-1.4'  # Path to your mimic database\n",
    "\n",
    "reader = Reader(path_dataset=path_dataset)"
   ]
  },
  {
   "cell_type": "markdown",
   "metadata": {},
   "source": [
    "## printing of all insights"
   ]
  },
  {
   "cell_type": "code",
   "execution_count": null,
   "metadata": {},
   "outputs": [],
   "source": [
    "cols_insights = [\"total ICUstays\",\"No AKI Observations\",\"AKI STAGE 1 observations\",\"AKI STAGE 2 observations\",\"AKI STAGE 3 observations\",\"NaN AKI observations\"]\n",
    "insights_df = pd.DataFrame(index=cols_insights)"
   ]
  },
  {
   "cell_type": "code",
   "execution_count": null,
   "metadata": {},
   "outputs": [],
   "source": [
    "c_aki = pd.read_csv(os.path.join(\n",
    "    path_preprocess_data, 'AKI_KIDIGO_STAGES_SQL.csv'))\n",
    "\n",
    "c_aki, insights_df = create_insights(c_aki, \"c_aki_full\", insights_df, 'AKI_STAGE')\n",
    "insights_df"
   ]
  },
  {
   "cell_type": "code",
   "execution_count": null,
   "metadata": {},
   "outputs": [],
   "source": [
    "c_aki_7d = pd.read_csv(os.path.join(\n",
    "    path_preprocess_data, 'AKI_KIDIGO_7D_SQL.csv'))\n",
    "\n",
    "c_aki_7d, insights_df = create_insights(c_aki_7d, \"c_aki_7d_full\", insights_df, 'AKI_STAGE_7DAY')\n",
    "\n",
    "\n",
    "print(\"Total icustays: \", c_aki_7d['ICUSTAY_ID'].nunique())\n"
   ]
  },
  {
   "cell_type": "markdown",
   "metadata": {},
   "source": [
    "### Using only Creatinine"
   ]
  },
  {
   "cell_type": "code",
   "execution_count": null,
   "metadata": {},
   "outputs": [],
   "source": [
    "c_aki_7d = pd.read_csv(os.path.join(\n",
    "    path_preprocess_data, 'AKI_KIDIGO_7D_SQL_CREATININE.csv'))\n",
    "c_aki_7d, insights_df = create_insights(c_aki_7d, \"c_aki_7d creat_only\",insights_df, 'AKI_STAGE_7DAY')\n",
    "\n",
    "print(\"Total icustays: \", c_aki_7d['ICUSTAY_ID'].nunique())\n"
   ]
  },
  {
   "cell_type": "code",
   "execution_count": null,
   "metadata": {},
   "outputs": [],
   "source": [
    "c_aki = pd.read_csv(os.path.join(path_preprocess_data,\n",
    "                        'AKI_KIDIGO_STAGES_SQL_CREATININE.csv'))\n",
    "c_aki, insights_df = create_insights(c_aki, \"c_aki_full creatinine infos\", insights_df, 'AKI_STAGE')\n"
   ]
  },
  {
   "cell_type": "code",
   "execution_count": null,
   "metadata": {},
   "outputs": [],
   "source": [
    "insights_df"
   ]
  },
  {
   "cell_type": "code",
   "execution_count": null,
   "metadata": {},
   "outputs": [],
   "source": [
    "px.bar(insights_df,barmode=\"group\" )"
   ]
  },
  {
   "cell_type": "code",
   "execution_count": null,
   "metadata": {},
   "outputs": [],
   "source": [
    "get_info_admissions()"
   ]
  },
  {
   "cell_type": "code",
   "execution_count": null,
   "metadata": {},
   "outputs": [],
   "source": [
    "get_aki_patients_7days()"
   ]
  },
  {
   "cell_type": "code",
   "execution_count": null,
   "metadata": {},
   "outputs": [],
   "source": [
    "get_aki_patients_7days_creatinine()"
   ]
  }
 ],
 "metadata": {
  "interpreter": {
   "hash": "658e40c54bf8a0fcccce9a26d4ace5a3a7db2cb5566b3ec49062a8cd6b299d28"
  },
  "kernelspec": {
   "display_name": "Python 3.8.12 64-bit ('eicu': conda)",
   "language": "python",
   "name": "python3"
  },
  "language_info": {
   "codemirror_mode": {
    "name": "ipython",
    "version": 3
   },
   "file_extension": ".py",
   "mimetype": "text/x-python",
   "name": "python",
   "nbconvert_exporter": "python",
   "pygments_lexer": "ipython3",
   "version": "3.8.12"
  },
  "orig_nbformat": 4
 },
 "nbformat": 4,
 "nbformat_minor": 2
}
